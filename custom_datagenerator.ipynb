{
 "cells": [
  {
   "cell_type": "code",
   "execution_count": 1,
   "metadata": {},
   "outputs": [],
   "source": [
    "import tensorflow as tf\n",
    "import tensorflow.keras as keras"
   ]
  },
  {
   "cell_type": "code",
   "execution_count": 8,
   "metadata": {},
   "outputs": [],
   "source": [
    "import numpy as np\n",
    "import pandas as pd\n",
    "import cv2\n",
    "import os\n",
    "import random"
   ]
  },
  {
   "cell_type": "code",
   "execution_count": 4,
   "metadata": {},
   "outputs": [],
   "source": [
    "data_path = \"./dataset\"\n",
    "data_dir_list = os.listdir(data_path)"
   ]
  },
  {
   "cell_type": "code",
   "execution_count": 5,
   "metadata": {},
   "outputs": [
    {
     "data": {
      "text/plain": [
       "['no_lane', 'lane']"
      ]
     },
     "execution_count": 5,
     "metadata": {},
     "output_type": "execute_result"
    }
   ],
   "source": [
    "data_dir_list"
   ]
  },
  {
   "cell_type": "code",
   "execution_count": 39,
   "metadata": {},
   "outputs": [],
   "source": [
    "train_df = pd.DataFrame(columns=[\"FileName\", \"InLane\", \"LaneMaskFileName\", \"LinesMaskFileName\", \"BlobsMaskFileName\"])\n",
    "test_df = pd.DataFrame(columns=[\"FileName\", \"InLane\", \"LaneMaskFileName\", \"LinesMaskFileName\", \"BlobsMaskFileName\"])"
   ]
  },
  {
   "cell_type": "code",
   "execution_count": 40,
   "metadata": {},
   "outputs": [],
   "source": [
    "test_length = 1"
   ]
  },
  {
   "cell_type": "code",
   "execution_count": 41,
   "metadata": {},
   "outputs": [
    {
     "name": "stdout",
     "output_type": "stream",
     "text": [
      "5\n",
      "5\n"
     ]
    }
   ],
   "source": [
    "for dataset in data_dir_list:\n",
    "    if dataset == \"lane\":\n",
    "        inlane = True\n",
    "    else:\n",
    "        inlane = False\n",
    "\n",
    "    original_img_list = os.listdir(os.path.join(data_path, dataset, \"original\"))\n",
    "    lane_mask_img_list = os.listdir(os.path.join(data_path, dataset, \"lane_mask\"))\n",
    "    lines_mask_img_list = os.listdir(os.path.join(data_path, dataset, \"lines_mask\"))\n",
    "    blobs_mask_img_list = os.listdir(os.path.join(data_path, dataset, \"blobs_mask\"))\n",
    "\n",
    "    assert len(original_img_list) == len(lane_mask_img_list) == len(lines_mask_img_list) == len(blobs_mask_img_list)\n",
    "\n",
    "    num_img_files = len(original_img_list)\n",
    "    test_list_index = random.sample(range(1, num_img_files), test_length)\n",
    "\n",
    "    for i in range(num_img_files):\n",
    "        original_img_name = original_img_list[i]\n",
    "        lane_mask_img_name = lane_mask_img_list[i]\n",
    "        lines_mask_img_name = lines_mask_img_list[i]\n",
    "        blobs_mask_img_name = blobs_mask_img_list[i]\n",
    "\n",
    "        original_img_file = os.path.join(data_path, dataset, \"original\", original_img_name)\n",
    "        lane_mask_img_file = os.path.join(data_path, dataset, \"lane_mask\", lane_mask_img_name)\n",
    "        lines_mask_img_file = os.path.join(data_path, dataset, \"lines_mask\", lines_mask_img_name)\n",
    "        blobs_mask_img_file = os.path.join(data_path, dataset, \"blobs_mask\", blobs_mask_img_name)\n",
    "\n",
    "        if i in test_list_index:\n",
    "            test_df = test_df.append({\n",
    "                \"FileName\": original_img_file,\n",
    "                \"InLane\": inlane,\n",
    "                \"LaneMaskFileName\": lane_mask_img_file,\n",
    "                \"LinesMaskFileName\": lines_mask_img_file,\n",
    "                \"BlobsMaskFileName\": blobs_mask_img_file,\n",
    "            }, ignore_index=True)\n",
    "        else:\n",
    "            train_df = train_df.append({\n",
    "                \"FileName\": original_img_file,\n",
    "                \"InLane\": inlane,\n",
    "                \"LaneMaskFileName\": lane_mask_img_file,\n",
    "                \"LinesMaskFileName\": lines_mask_img_file,\n",
    "                \"BlobsMaskFileName\": blobs_mask_img_file,\n",
    "            }, ignore_index=True)\n"
   ]
  },
  {
   "cell_type": "code",
   "execution_count": 42,
   "metadata": {},
   "outputs": [],
   "source": [
    "train_df.to_csv(\"train_df.csv\")\n",
    "test_df.to_csv(\"test_df.csv\")"
   ]
  },
  {
   "cell_type": "code",
   "execution_count": 43,
   "metadata": {},
   "outputs": [
    {
     "data": {
      "text/html": [
       "<div>\n",
       "<style scoped>\n",
       "    .dataframe tbody tr th:only-of-type {\n",
       "        vertical-align: middle;\n",
       "    }\n",
       "\n",
       "    .dataframe tbody tr th {\n",
       "        vertical-align: top;\n",
       "    }\n",
       "\n",
       "    .dataframe thead th {\n",
       "        text-align: right;\n",
       "    }\n",
       "</style>\n",
       "<table border=\"1\" class=\"dataframe\">\n",
       "  <thead>\n",
       "    <tr style=\"text-align: right;\">\n",
       "      <th></th>\n",
       "      <th>FileName</th>\n",
       "      <th>InLane</th>\n",
       "      <th>LaneMaskFileName</th>\n",
       "      <th>LinesMaskFileName</th>\n",
       "      <th>BlobsMaskFileName</th>\n",
       "    </tr>\n",
       "  </thead>\n",
       "  <tbody>\n",
       "    <tr>\n",
       "      <th>0</th>\n",
       "      <td>./dataset/no_lane/original/virus (3rd copy).png</td>\n",
       "      <td>False</td>\n",
       "      <td>./dataset/no_lane/lane_mask/virus (3rd copy).png</td>\n",
       "      <td>./dataset/no_lane/lines_mask/virus (3rd copy).png</td>\n",
       "      <td>./dataset/no_lane/blobs_mask/virus (3rd copy).png</td>\n",
       "    </tr>\n",
       "    <tr>\n",
       "      <th>1</th>\n",
       "      <td>./dataset/no_lane/original/virus (copy).png</td>\n",
       "      <td>False</td>\n",
       "      <td>./dataset/no_lane/lane_mask/virus (copy).png</td>\n",
       "      <td>./dataset/no_lane/lines_mask/virus (copy).png</td>\n",
       "      <td>./dataset/no_lane/blobs_mask/virus (copy).png</td>\n",
       "    </tr>\n",
       "    <tr>\n",
       "      <th>2</th>\n",
       "      <td>./dataset/no_lane/original/virus (another copy...</td>\n",
       "      <td>False</td>\n",
       "      <td>./dataset/no_lane/lane_mask/virus (another cop...</td>\n",
       "      <td>./dataset/no_lane/lines_mask/virus (another co...</td>\n",
       "      <td>./dataset/no_lane/blobs_mask/virus (another co...</td>\n",
       "    </tr>\n",
       "    <tr>\n",
       "      <th>3</th>\n",
       "      <td>./dataset/no_lane/original/virus (4th copy).png</td>\n",
       "      <td>False</td>\n",
       "      <td>./dataset/no_lane/lane_mask/virus (4th copy).png</td>\n",
       "      <td>./dataset/no_lane/lines_mask/virus (4th copy).png</td>\n",
       "      <td>./dataset/no_lane/blobs_mask/virus (4th copy).png</td>\n",
       "    </tr>\n",
       "    <tr>\n",
       "      <th>4</th>\n",
       "      <td>./dataset/lane/original/virus (3rd copy).png</td>\n",
       "      <td>True</td>\n",
       "      <td>./dataset/lane/lane_mask/virus (3rd copy).png</td>\n",
       "      <td>./dataset/lane/lines_mask/virus (3rd copy).png</td>\n",
       "      <td>./dataset/lane/blobs_mask/virus (3rd copy).png</td>\n",
       "    </tr>\n",
       "    <tr>\n",
       "      <th>5</th>\n",
       "      <td>./dataset/lane/original/virus.png</td>\n",
       "      <td>True</td>\n",
       "      <td>./dataset/lane/lane_mask/virus.png</td>\n",
       "      <td>./dataset/lane/lines_mask/virus.png</td>\n",
       "      <td>./dataset/lane/blobs_mask/virus.png</td>\n",
       "    </tr>\n",
       "    <tr>\n",
       "      <th>6</th>\n",
       "      <td>./dataset/lane/original/virus (copy).png</td>\n",
       "      <td>True</td>\n",
       "      <td>./dataset/lane/lane_mask/virus (copy).png</td>\n",
       "      <td>./dataset/lane/lines_mask/virus (copy).png</td>\n",
       "      <td>./dataset/lane/blobs_mask/virus (copy).png</td>\n",
       "    </tr>\n",
       "    <tr>\n",
       "      <th>7</th>\n",
       "      <td>./dataset/lane/original/virus (another copy).png</td>\n",
       "      <td>True</td>\n",
       "      <td>./dataset/lane/lane_mask/virus (another copy).png</td>\n",
       "      <td>./dataset/lane/lines_mask/virus (another copy)...</td>\n",
       "      <td>./dataset/lane/blobs_mask/virus (another copy)...</td>\n",
       "    </tr>\n",
       "  </tbody>\n",
       "</table>\n",
       "</div>"
      ],
      "text/plain": [
       "                                            FileName InLane  \\\n",
       "0    ./dataset/no_lane/original/virus (3rd copy).png  False   \n",
       "1        ./dataset/no_lane/original/virus (copy).png  False   \n",
       "2  ./dataset/no_lane/original/virus (another copy...  False   \n",
       "3    ./dataset/no_lane/original/virus (4th copy).png  False   \n",
       "4       ./dataset/lane/original/virus (3rd copy).png   True   \n",
       "5                  ./dataset/lane/original/virus.png   True   \n",
       "6           ./dataset/lane/original/virus (copy).png   True   \n",
       "7   ./dataset/lane/original/virus (another copy).png   True   \n",
       "\n",
       "                                    LaneMaskFileName  \\\n",
       "0   ./dataset/no_lane/lane_mask/virus (3rd copy).png   \n",
       "1       ./dataset/no_lane/lane_mask/virus (copy).png   \n",
       "2  ./dataset/no_lane/lane_mask/virus (another cop...   \n",
       "3   ./dataset/no_lane/lane_mask/virus (4th copy).png   \n",
       "4      ./dataset/lane/lane_mask/virus (3rd copy).png   \n",
       "5                 ./dataset/lane/lane_mask/virus.png   \n",
       "6          ./dataset/lane/lane_mask/virus (copy).png   \n",
       "7  ./dataset/lane/lane_mask/virus (another copy).png   \n",
       "\n",
       "                                   LinesMaskFileName  \\\n",
       "0  ./dataset/no_lane/lines_mask/virus (3rd copy).png   \n",
       "1      ./dataset/no_lane/lines_mask/virus (copy).png   \n",
       "2  ./dataset/no_lane/lines_mask/virus (another co...   \n",
       "3  ./dataset/no_lane/lines_mask/virus (4th copy).png   \n",
       "4     ./dataset/lane/lines_mask/virus (3rd copy).png   \n",
       "5                ./dataset/lane/lines_mask/virus.png   \n",
       "6         ./dataset/lane/lines_mask/virus (copy).png   \n",
       "7  ./dataset/lane/lines_mask/virus (another copy)...   \n",
       "\n",
       "                                   BlobsMaskFileName  \n",
       "0  ./dataset/no_lane/blobs_mask/virus (3rd copy).png  \n",
       "1      ./dataset/no_lane/blobs_mask/virus (copy).png  \n",
       "2  ./dataset/no_lane/blobs_mask/virus (another co...  \n",
       "3  ./dataset/no_lane/blobs_mask/virus (4th copy).png  \n",
       "4     ./dataset/lane/blobs_mask/virus (3rd copy).png  \n",
       "5                ./dataset/lane/blobs_mask/virus.png  \n",
       "6         ./dataset/lane/blobs_mask/virus (copy).png  \n",
       "7  ./dataset/lane/blobs_mask/virus (another copy)...  "
      ]
     },
     "execution_count": 43,
     "metadata": {},
     "output_type": "execute_result"
    }
   ],
   "source": [
    "train_df"
   ]
  },
  {
   "cell_type": "code",
   "execution_count": null,
   "metadata": {},
   "outputs": [],
   "source": []
  }
 ],
 "metadata": {
  "interpreter": {
   "hash": "48f52c6325c19d1342a381f2994b88a95313d28bf4d16ba735a14cd4e8028d62"
  },
  "kernelspec": {
   "display_name": "Python 3.8.12 64-bit",
   "name": "python3"
  },
  "language_info": {
   "codemirror_mode": {
    "name": "ipython",
    "version": 3
   },
   "file_extension": ".py",
   "mimetype": "text/x-python",
   "name": "python",
   "nbconvert_exporter": "python",
   "pygments_lexer": "ipython3",
   "version": "3.8.12"
  },
  "orig_nbformat": 4
 },
 "nbformat": 4,
 "nbformat_minor": 2
}