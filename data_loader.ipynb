{
 "cells": [
  {
   "cell_type": "code",
   "execution_count": 7,
   "metadata": {},
   "outputs": [],
   "source": [
    "import numpy as np\n",
    "import pandas as pd\n",
    "import random\n",
    "import matplotlib.pyplot as plt\n",
    "\n",
    "import cv2\n",
    "import os\n",
    "\n",
    "from sklearn.utils import shuffle\n",
    "from PIL import Image"
   ]
  },
  {
   "cell_type": "code",
   "execution_count": 8,
   "metadata": {},
   "outputs": [],
   "source": [
    "train_df = pd.read_csv(\"train_df.csv\", index_col=False)"
   ]
  },
  {
   "cell_type": "code",
   "execution_count": 9,
   "metadata": {},
   "outputs": [],
   "source": [
    "train_df = shuffle(train_df)"
   ]
  },
  {
   "cell_type": "code",
   "execution_count": 17,
   "metadata": {},
   "outputs": [],
   "source": [
    "train_df = train_df.drop(\"Unnamed: 0\", axis=1)"
   ]
  },
  {
   "cell_type": "code",
   "execution_count": 18,
   "metadata": {},
   "outputs": [
    {
     "data": {
      "text/html": [
       "<div>\n",
       "<style scoped>\n",
       "    .dataframe tbody tr th:only-of-type {\n",
       "        vertical-align: middle;\n",
       "    }\n",
       "\n",
       "    .dataframe tbody tr th {\n",
       "        vertical-align: top;\n",
       "    }\n",
       "\n",
       "    .dataframe thead th {\n",
       "        text-align: right;\n",
       "    }\n",
       "</style>\n",
       "<table border=\"1\" class=\"dataframe\">\n",
       "  <thead>\n",
       "    <tr style=\"text-align: right;\">\n",
       "      <th></th>\n",
       "      <th>FileName</th>\n",
       "      <th>InLane</th>\n",
       "      <th>LaneMaskFileName</th>\n",
       "      <th>LinesMaskFileName</th>\n",
       "      <th>BlobsMaskFileName</th>\n",
       "    </tr>\n",
       "  </thead>\n",
       "  <tbody>\n",
       "    <tr>\n",
       "      <th>0</th>\n",
       "      <td>./dataset/no_lane/original/virus (3rd copy).png</td>\n",
       "      <td>False</td>\n",
       "      <td>./dataset/no_lane/lane_mask/virus (3rd copy).png</td>\n",
       "      <td>./dataset/no_lane/lines_mask/virus (3rd copy).png</td>\n",
       "      <td>./dataset/no_lane/blobs_mask/virus (3rd copy).png</td>\n",
       "    </tr>\n",
       "    <tr>\n",
       "      <th>1</th>\n",
       "      <td>./dataset/no_lane/original/virus (copy).png</td>\n",
       "      <td>False</td>\n",
       "      <td>./dataset/no_lane/lane_mask/virus (copy).png</td>\n",
       "      <td>./dataset/no_lane/lines_mask/virus (copy).png</td>\n",
       "      <td>./dataset/no_lane/blobs_mask/virus (copy).png</td>\n",
       "    </tr>\n",
       "    <tr>\n",
       "      <th>5</th>\n",
       "      <td>./dataset/lane/original/virus (another copy).png</td>\n",
       "      <td>True</td>\n",
       "      <td>./dataset/lane/lane_mask/virus (another copy).png</td>\n",
       "      <td>./dataset/lane/lines_mask/virus (another copy)...</td>\n",
       "      <td>./dataset/lane/blobs_mask/virus (another copy)...</td>\n",
       "    </tr>\n",
       "    <tr>\n",
       "      <th>2</th>\n",
       "      <td>./dataset/no_lane/original/virus (4th copy).png</td>\n",
       "      <td>False</td>\n",
       "      <td>./dataset/no_lane/lane_mask/virus (4th copy).png</td>\n",
       "      <td>./dataset/no_lane/lines_mask/virus (4th copy).png</td>\n",
       "      <td>./dataset/no_lane/blobs_mask/virus (4th copy).png</td>\n",
       "    </tr>\n",
       "    <tr>\n",
       "      <th>4</th>\n",
       "      <td>./dataset/lane/original/virus.png</td>\n",
       "      <td>True</td>\n",
       "      <td>./dataset/lane/lane_mask/virus.png</td>\n",
       "      <td>./dataset/lane/lines_mask/virus.png</td>\n",
       "      <td>./dataset/lane/blobs_mask/virus.png</td>\n",
       "    </tr>\n",
       "    <tr>\n",
       "      <th>3</th>\n",
       "      <td>./dataset/lane/original/virus (3rd copy).png</td>\n",
       "      <td>True</td>\n",
       "      <td>./dataset/lane/lane_mask/virus (3rd copy).png</td>\n",
       "      <td>./dataset/lane/lines_mask/virus (3rd copy).png</td>\n",
       "      <td>./dataset/lane/blobs_mask/virus (3rd copy).png</td>\n",
       "    </tr>\n",
       "  </tbody>\n",
       "</table>\n",
       "</div>"
      ],
      "text/plain": [
       "                                           FileName  InLane  \\\n",
       "0   ./dataset/no_lane/original/virus (3rd copy).png   False   \n",
       "1       ./dataset/no_lane/original/virus (copy).png   False   \n",
       "5  ./dataset/lane/original/virus (another copy).png    True   \n",
       "2   ./dataset/no_lane/original/virus (4th copy).png   False   \n",
       "4                 ./dataset/lane/original/virus.png    True   \n",
       "3      ./dataset/lane/original/virus (3rd copy).png    True   \n",
       "\n",
       "                                    LaneMaskFileName  \\\n",
       "0   ./dataset/no_lane/lane_mask/virus (3rd copy).png   \n",
       "1       ./dataset/no_lane/lane_mask/virus (copy).png   \n",
       "5  ./dataset/lane/lane_mask/virus (another copy).png   \n",
       "2   ./dataset/no_lane/lane_mask/virus (4th copy).png   \n",
       "4                 ./dataset/lane/lane_mask/virus.png   \n",
       "3      ./dataset/lane/lane_mask/virus (3rd copy).png   \n",
       "\n",
       "                                   LinesMaskFileName  \\\n",
       "0  ./dataset/no_lane/lines_mask/virus (3rd copy).png   \n",
       "1      ./dataset/no_lane/lines_mask/virus (copy).png   \n",
       "5  ./dataset/lane/lines_mask/virus (another copy)...   \n",
       "2  ./dataset/no_lane/lines_mask/virus (4th copy).png   \n",
       "4                ./dataset/lane/lines_mask/virus.png   \n",
       "3     ./dataset/lane/lines_mask/virus (3rd copy).png   \n",
       "\n",
       "                                   BlobsMaskFileName  \n",
       "0  ./dataset/no_lane/blobs_mask/virus (3rd copy).png  \n",
       "1      ./dataset/no_lane/blobs_mask/virus (copy).png  \n",
       "5  ./dataset/lane/blobs_mask/virus (another copy)...  \n",
       "2  ./dataset/no_lane/blobs_mask/virus (4th copy).png  \n",
       "4                ./dataset/lane/blobs_mask/virus.png  \n",
       "3     ./dataset/lane/blobs_mask/virus (3rd copy).png  "
      ]
     },
     "execution_count": 18,
     "metadata": {},
     "output_type": "execute_result"
    }
   ],
   "source": [
    "train_df"
   ]
  },
  {
   "cell_type": "code",
   "execution_count": 11,
   "metadata": {},
   "outputs": [],
   "source": [
    "BATCH_SIZE = 1"
   ]
  },
  {
   "cell_type": "code",
   "execution_count": 124,
   "metadata": {},
   "outputs": [],
   "source": [
    "def load_img(img_path, ismask=False):\n",
    "    img = cv2.imread(img_path)\n",
    "    if not ismask:\n",
    "        img = cv2.cvtColor(img, cv2.COLOR_BGR2RGB)\n",
    "    else:\n",
    "        img = cv2.cvtColor(img, cv2.COLOR_BGR2GRAY)\n",
    "    return img\n",
    "\n",
    "def generator(df, batch_size=BATCH_SIZE):\n",
    "    num_samples = len(df)\n",
    "    while True:\n",
    "        samples = df\n",
    "        for offset in range(0, num_samples, batch_size):\n",
    "            batch_samples = samples[offset:offset+batch_size]\n",
    "\n",
    "            X = []\n",
    "            y = []\n",
    "            y_label = []\n",
    "            for ind in range(len(batch_samples)):\n",
    "                batch_sample = batch_samples.iloc[ind]\n",
    "                img_path = batch_sample[0]\n",
    "                y_imgs = [\n",
    "                    load_img(batch_sample[2], ismask=True), \n",
    "                    load_img(batch_sample[3], ismask=True), \n",
    "                    load_img(batch_sample[4], ismask=True)]\n",
    "                label = batch_sample[1]\n",
    "                img =  load_img(img_path)\n",
    "                \n",
    "                X.append(img)\n",
    "                y.append(y_imgs)\n",
    "                y_label.append(label)\n",
    "\n",
    "            X = np.array(X)\n",
    "            y = np.array(y)\n",
    "\n",
    "            yield X, y, y_label\n"
   ]
  },
  {
   "cell_type": "code",
   "execution_count": 125,
   "metadata": {},
   "outputs": [],
   "source": [
    "train_datagen = generator(train_df, 2)"
   ]
  },
  {
   "cell_type": "code",
   "execution_count": 126,
   "metadata": {},
   "outputs": [],
   "source": [
    "(X, Y, y_label) = next(train_datagen)"
   ]
  },
  {
   "cell_type": "code",
   "execution_count": 127,
   "metadata": {},
   "outputs": [
    {
     "data": {
      "text/plain": [
       "<matplotlib.image.AxesImage at 0x7f4eb157f460>"
      ]
     },
     "execution_count": 127,
     "metadata": {},
     "output_type": "execute_result"
    },
    {
     "data": {
      "image/png": "[encoded data removed]",
      "text/plain": [
       "<Figure size 432x288 with 1 Axes>"
      ]
     },
     "metadata": {
      "needs_background": "light"
     },
     "output_type": "display_data"
    }
   ],
   "source": [
    "plt.imshow(X[0])"
   ]
  },
  {
   "cell_type": "code",
   "execution_count": null,
   "metadata": {},
   "outputs": [],
   "source": []
  }
 ],
 "metadata": {
  "interpreter": {
   "hash": "df0893f56f349688326838aaeea0de204df53a132722cbd565e54b24a8fec5f6"
  },
  "kernelspec": {
   "display_name": "Python 3.8.12 64-bit",
   "language": "python",
   "name": "python3"
  },
  "language_info": {
   "codemirror_mode": {
    "name": "ipython",
    "version": 3
   },
   "file_extension": ".py",
   "mimetype": "text/x-python",
   "name": "python",
   "nbconvert_exporter": "python",
   "pygments_lexer": "ipython3",
   "version": "3.8.12"
  },
  "orig_nbformat": 4
 },
 "nbformat": 4,
 "nbformat_minor": 2
}
